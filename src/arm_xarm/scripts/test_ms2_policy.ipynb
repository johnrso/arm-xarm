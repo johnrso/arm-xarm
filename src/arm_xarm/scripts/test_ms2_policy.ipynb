{
 "cells": [
  {
   "cell_type": "code",
   "execution_count": 1,
   "metadata": {},
   "outputs": [
    {
     "name": "stdout",
     "output_type": "stream",
     "text": [
      "Spconv is not installed!\n",
      "No module named 'torchsparse'\n",
      "Jupyter environment detected. Enabling Open3D WebVisualizer.\n",
      "[Open3D INFO] WebRTC GUI backend enabled.\n",
      "[Open3D INFO] WebRTCWindowSystem: HTTP handshake server disabled.\n",
      "SparseConv is not supported\n",
      "No module named 'torchsparse'\n"
     ]
    }
   ],
   "source": [
    "from maniskill2_learn.utils.torch import load_checkpoint\n",
    "from maniskill2_learn.networks.utils import get_kwargs_from_shape, replace_placeholder_with_args\n",
    "from maniskill2_learn.methods.builder import build_agent\n",
    "from maniskill2_learn.utils.data import is_not_null, is_null, num_to_str\n",
    "from gym.spaces import Discrete, Box"
   ]
  },
  {
   "cell_type": "code",
   "execution_count": 2,
   "metadata": {},
   "outputs": [
    {
     "name": "stdout",
     "output_type": "stream",
     "text": [
      "{'type': 'BC', 'batch_size': 128, 'actor_cfg': {'type': 'ContinuousActor', 'head_cfg': {'type': 'TanhHead', 'noise_std': 1e-06}, 'nn_cfg': {'type': 'Visuomotor', 'visual_nn_cfg': {'type': 'IMPALA', 'in_channel': 12, 'num_pixels': 50176, 'image_size': (224, 224), 'out_feature_size': 384, 'multi_view_path': True, 'seg_conv_num': None, 'visual_type': 'hand_rgb'}, 'mlp_cfg': {'type': 'LinearMLP', 'norm_cfg': None, 'mlp_spec': [412, 256, 128, 7], 'inactivated_output': True, 'zero_init_output': True}}, 'optim_cfg': {'type': 'Adam', 'lr': 0.0003}}, 'frame_stacking': 4, 'stacking_idxes': (0, 4, 7, 9), 'env_params': {'obs_shape': None, 'action_shape': None, 'action_space': Box([-1. -1. -1. -1. -1. -1. -1.], [1. 1. 1. 1. 1. 1. 1.], (7,), float32), 'discrete': False}}\n",
      "We adapt weight with shape [64 16  4  4] to shape [64 12  4  4].\n"
     ]
    }
   ],
   "source": [
    "import configs.brl.bc.conv_mlp_robot as cfg\n",
    "from maniskill2_learn.utils.meta.config import Config\n",
    "\n",
    "cfg = Config.fromfile(\"/home/xingyu/xarm/src/OpenWorldManipulation/ManiSkill2-Learn/configs/brl/bc/conv_mlp_robot.py\")\n",
    "\n",
    "replaceable_kwargs = cfg.shape_cfg\n",
    "cfg.agent_cfg['env_params']['action_space'] = Box(low = -1.0, high = 1.0, shape=(7,))\n",
    "cfg = replace_placeholder_with_args(cfg, **replaceable_kwargs)\n",
    "cfg.agent_cfg[\"actor_cfg\"][\"nn_cfg\"][\"visual_nn_cfg\"][\"visual_type\"] = 'hand_rgb'\n",
    "\n",
    "print(cfg.agent_cfg)\n",
    "                                        \n",
    "agent = build_agent(cfg.agent_cfg)\n",
    "model = load_checkpoint(agent, '/home/xingyu/xarm/src/arm_xarm/ckpt/policy_impala.ckpt')"
   ]
  },
  {
   "cell_type": "code",
   "execution_count": 3,
   "metadata": {},
   "outputs": [
    {
     "data": {
      "text/plain": [
       "maniskill2_learn.methods.brl.bc.BC"
      ]
     },
     "execution_count": 3,
     "metadata": {},
     "output_type": "execute_result"
    }
   ],
   "source": [
    "type(agent)"
   ]
  },
  {
   "cell_type": "code",
   "execution_count": 4,
   "metadata": {},
   "outputs": [],
   "source": [
    "import torch"
   ]
  },
  {
   "cell_type": "code",
   "execution_count": 5,
   "metadata": {},
   "outputs": [],
   "source": [
    "obs = {}\n",
    "obs[\"rgb\"] = torch.rand(1, 3, 224, 224)\n",
    "obs[\"state\"] = torch.rand(1, 7)"
   ]
  },
  {
   "cell_type": "code",
   "execution_count": 6,
   "metadata": {},
   "outputs": [
    {
     "data": {
      "text/plain": [
       "tensor([[-0.0073, -0.0025,  0.0043, -0.0174, -0.0158,  0.0139, -0.0017]])"
      ]
     },
     "execution_count": 6,
     "metadata": {},
     "output_type": "execute_result"
    }
   ],
   "source": [
    "agent.reset()\n",
    "agent.act(obs)"
   ]
  },
  {
   "cell_type": "code",
   "execution_count": 7,
   "metadata": {},
   "outputs": [
    {
     "data": {
      "text/plain": [
       "tensor([[-0.0073, -0.0025,  0.0043, -0.0174, -0.0158,  0.0139, -0.0017]])"
      ]
     },
     "execution_count": 7,
     "metadata": {},
     "output_type": "execute_result"
    }
   ],
   "source": [
    "agent.act(obs)"
   ]
  },
  {
   "cell_type": "code",
   "execution_count": null,
   "metadata": {},
   "outputs": [],
   "source": []
  }
 ],
 "metadata": {
  "kernelspec": {
   "display_name": "owm_xarm",
   "language": "python",
   "name": "owm_xarm"
  },
  "language_info": {
   "codemirror_mode": {
    "name": "ipython",
    "version": 3
   },
   "file_extension": ".py",
   "mimetype": "text/x-python",
   "name": "python",
   "nbconvert_exporter": "python",
   "pygments_lexer": "ipython3",
   "version": "3.8.16"
  },
  "orig_nbformat": 4
 },
 "nbformat": 4,
 "nbformat_minor": 2
}
